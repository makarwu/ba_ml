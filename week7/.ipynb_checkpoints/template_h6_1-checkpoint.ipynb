{
 "cells": [
  {
   "cell_type": "markdown",
   "metadata": {},
   "source": [
    "# Exercise: Data Merging\n",
    "\n",
    "Ideally, data analysts would start their work with complete datasets. In practise, however, data often isn't even bundled and has to be aggregated from multiple sources. In this exercise, you will use pandas to merge data from multiple sources in different ways."
   ]
  },
  {
   "cell_type": "code",
   "execution_count": 2,
   "metadata": {},
   "outputs": [],
   "source": [
    "# for this exercise, only use pandas\n",
    "import pandas as pd"
   ]
  },
  {
   "cell_type": "markdown",
   "metadata": {},
   "source": [
    "##### 1. Read the customer table (customers.csv) and order table (orders.csv) files into two separate dataframes"
   ]
  },
  {
   "cell_type": "code",
   "execution_count": 3,
   "metadata": {},
   "outputs": [
    {
     "data": {
      "text/html": [
       "<div>\n",
       "<style scoped>\n",
       "    .dataframe tbody tr th:only-of-type {\n",
       "        vertical-align: middle;\n",
       "    }\n",
       "\n",
       "    .dataframe tbody tr th {\n",
       "        vertical-align: top;\n",
       "    }\n",
       "\n",
       "    .dataframe thead th {\n",
       "        text-align: right;\n",
       "    }\n",
       "</style>\n",
       "<table border=\"1\" class=\"dataframe\">\n",
       "  <thead>\n",
       "    <tr style=\"text-align: right;\">\n",
       "      <th></th>\n",
       "      <th>ID</th>\n",
       "      <th>Name</th>\n",
       "      <th>Street</th>\n",
       "      <th>Phone</th>\n",
       "    </tr>\n",
       "  </thead>\n",
       "  <tbody>\n",
       "    <tr>\n",
       "      <th>0</th>\n",
       "      <td>1</td>\n",
       "      <td>Gerry Schaefer</td>\n",
       "      <td>Elizbeth Carroll Street</td>\n",
       "      <td>9624155983</td>\n",
       "    </tr>\n",
       "    <tr>\n",
       "      <th>1</th>\n",
       "      <td>2</td>\n",
       "      <td>Lizabeth Armstrong</td>\n",
       "      <td>Art Kirlin Street</td>\n",
       "      <td>6174621765</td>\n",
       "    </tr>\n",
       "    <tr>\n",
       "      <th>2</th>\n",
       "      <td>3</td>\n",
       "      <td>Ming Veum</td>\n",
       "      <td>Eusebio Pagac Street</td>\n",
       "      <td>6845739684</td>\n",
       "    </tr>\n",
       "  </tbody>\n",
       "</table>\n",
       "</div>"
      ],
      "text/plain": [
       "   ID                Name                     Street       Phone\n",
       "0   1      Gerry Schaefer  Elizbeth Carroll Street    9624155983\n",
       "1   2  Lizabeth Armstrong        Art Kirlin Street    6174621765\n",
       "2   3           Ming Veum     Eusebio Pagac Street    6845739684"
      ]
     },
     "execution_count": 3,
     "metadata": {},
     "output_type": "execute_result"
    }
   ],
   "source": [
    "df_customers = pd.read_csv(\"customers.csv\")\n",
    "df_orders = pd.read_csv(\"orders.csv\")\n",
    "df_customers.head(3)"
   ]
  },
  {
   "cell_type": "code",
   "execution_count": 4,
   "metadata": {},
   "outputs": [
    {
     "data": {
      "text/html": [
       "<div>\n",
       "<style scoped>\n",
       "    .dataframe tbody tr th:only-of-type {\n",
       "        vertical-align: middle;\n",
       "    }\n",
       "\n",
       "    .dataframe tbody tr th {\n",
       "        vertical-align: top;\n",
       "    }\n",
       "\n",
       "    .dataframe thead th {\n",
       "        text-align: right;\n",
       "    }\n",
       "</style>\n",
       "<table border=\"1\" class=\"dataframe\">\n",
       "  <thead>\n",
       "    <tr style=\"text-align: right;\">\n",
       "      <th></th>\n",
       "      <th>ID</th>\n",
       "      <th>Item</th>\n",
       "      <th>Amount</th>\n",
       "      <th>Prize</th>\n",
       "      <th>Customer</th>\n",
       "    </tr>\n",
       "  </thead>\n",
       "  <tbody>\n",
       "    <tr>\n",
       "      <th>0</th>\n",
       "      <td>10735</td>\n",
       "      <td>Lorenzo Hagenes</td>\n",
       "      <td>3</td>\n",
       "      <td>20.798804</td>\n",
       "      <td>399</td>\n",
       "    </tr>\n",
       "    <tr>\n",
       "      <th>1</th>\n",
       "      <td>10736</td>\n",
       "      <td>Margie Gibson</td>\n",
       "      <td>4</td>\n",
       "      <td>89.046203</td>\n",
       "      <td>498</td>\n",
       "    </tr>\n",
       "    <tr>\n",
       "      <th>2</th>\n",
       "      <td>10737</td>\n",
       "      <td>Melodie Dietrich</td>\n",
       "      <td>5</td>\n",
       "      <td>19.707403</td>\n",
       "      <td>26</td>\n",
       "    </tr>\n",
       "  </tbody>\n",
       "</table>\n",
       "</div>"
      ],
      "text/plain": [
       "      ID              Item  Amount      Prize  Customer\n",
       "0  10735   Lorenzo Hagenes       3  20.798804       399\n",
       "1  10736     Margie Gibson       4  89.046203       498\n",
       "2  10737  Melodie Dietrich       5  19.707403        26"
      ]
     },
     "execution_count": 4,
     "metadata": {},
     "output_type": "execute_result"
    }
   ],
   "source": [
    "df_orders.head(3)"
   ]
  },
  {
   "cell_type": "markdown",
   "metadata": {},
   "source": [
    "##### 2. Create a dataframe, which contains each customer and their associated information from the order table. This new dataframe should keep all entries of the customer.csv table."
   ]
  },
  {
   "cell_type": "code",
   "execution_count": 7,
   "metadata": {},
   "outputs": [
    {
     "data": {
      "text/html": [
       "<div>\n",
       "<style scoped>\n",
       "    .dataframe tbody tr th:only-of-type {\n",
       "        vertical-align: middle;\n",
       "    }\n",
       "\n",
       "    .dataframe tbody tr th {\n",
       "        vertical-align: top;\n",
       "    }\n",
       "\n",
       "    .dataframe thead th {\n",
       "        text-align: right;\n",
       "    }\n",
       "</style>\n",
       "<table border=\"1\" class=\"dataframe\">\n",
       "  <thead>\n",
       "    <tr style=\"text-align: right;\">\n",
       "      <th></th>\n",
       "      <th>ID_x</th>\n",
       "      <th>Name</th>\n",
       "      <th>Street</th>\n",
       "      <th>Phone</th>\n",
       "      <th>ID_y</th>\n",
       "      <th>Item</th>\n",
       "      <th>Amount</th>\n",
       "      <th>Prize</th>\n",
       "      <th>Customer</th>\n",
       "    </tr>\n",
       "  </thead>\n",
       "  <tbody>\n",
       "    <tr>\n",
       "      <th>0</th>\n",
       "      <td>1</td>\n",
       "      <td>Gerry Schaefer</td>\n",
       "      <td>Elizbeth Carroll Street</td>\n",
       "      <td>9624155983</td>\n",
       "      <td>10784.0</td>\n",
       "      <td>Dillon Crist</td>\n",
       "      <td>2.0</td>\n",
       "      <td>29.916634</td>\n",
       "      <td>1.0</td>\n",
       "    </tr>\n",
       "    <tr>\n",
       "      <th>1</th>\n",
       "      <td>1</td>\n",
       "      <td>Gerry Schaefer</td>\n",
       "      <td>Elizbeth Carroll Street</td>\n",
       "      <td>9624155983</td>\n",
       "      <td>10804.0</td>\n",
       "      <td>Jermaine D'Amore</td>\n",
       "      <td>6.0</td>\n",
       "      <td>93.976604</td>\n",
       "      <td>1.0</td>\n",
       "    </tr>\n",
       "    <tr>\n",
       "      <th>2</th>\n",
       "      <td>2</td>\n",
       "      <td>Lizabeth Armstrong</td>\n",
       "      <td>Art Kirlin Street</td>\n",
       "      <td>6174621765</td>\n",
       "      <td>11005.0</td>\n",
       "      <td>Gennie Ferry</td>\n",
       "      <td>8.0</td>\n",
       "      <td>62.931166</td>\n",
       "      <td>2.0</td>\n",
       "    </tr>\n",
       "  </tbody>\n",
       "</table>\n",
       "</div>"
      ],
      "text/plain": [
       "   ID_x                Name                     Street       Phone     ID_y  \\\n",
       "0     1      Gerry Schaefer  Elizbeth Carroll Street    9624155983  10784.0   \n",
       "1     1      Gerry Schaefer  Elizbeth Carroll Street    9624155983  10804.0   \n",
       "2     2  Lizabeth Armstrong        Art Kirlin Street    6174621765  11005.0   \n",
       "\n",
       "               Item  Amount      Prize  Customer  \n",
       "0      Dillon Crist     2.0  29.916634       1.0  \n",
       "1  Jermaine D'Amore     6.0  93.976604       1.0  \n",
       "2      Gennie Ferry     8.0  62.931166       2.0  "
      ]
     },
     "execution_count": 7,
     "metadata": {},
     "output_type": "execute_result"
    }
   ],
   "source": [
    "merged_df1 = pd.merge(df_customers, df_orders, left_on=\"ID\", right_on=\"Customer\", how=\"left\")\n",
    "#merged_df1.drop(columns=[\"Customer\"], inplace=True)\n",
    "merged_df1.head(3)"
   ]
  },
  {
   "cell_type": "markdown",
   "metadata": {},
   "source": [
    "##### 3. Create a dataframe, which contains only customers that already have placed at least one order"
   ]
  },
  {
   "cell_type": "code",
   "execution_count": 8,
   "metadata": {},
   "outputs": [
    {
     "data": {
      "text/plain": [
       "Amount\n",
       "1     41\n",
       "6     36\n",
       "8     35\n",
       "9     33\n",
       "4     33\n",
       "2     31\n",
       "3     27\n",
       "7     25\n",
       "5     21\n",
       "10    20\n",
       "Name: count, dtype: int64"
      ]
     },
     "execution_count": 8,
     "metadata": {},
     "output_type": "execute_result"
    }
   ],
   "source": [
    "merged_df2 = pd.merge(df_customers, df_orders, left_on=\"ID\", right_on=\"Customer\", how=\"inner\")\n",
    "merged_df2[\"Amount\"].value_counts()"
   ]
  },
  {
   "cell_type": "markdown",
   "metadata": {},
   "source": [
    "##### 4. Create a dataframe, that merges and keeps _all_ entries from both datasets"
   ]
  },
  {
   "cell_type": "code",
   "execution_count": 9,
   "metadata": {},
   "outputs": [
    {
     "data": {
      "text/html": [
       "<div>\n",
       "<style scoped>\n",
       "    .dataframe tbody tr th:only-of-type {\n",
       "        vertical-align: middle;\n",
       "    }\n",
       "\n",
       "    .dataframe tbody tr th {\n",
       "        vertical-align: top;\n",
       "    }\n",
       "\n",
       "    .dataframe thead th {\n",
       "        text-align: right;\n",
       "    }\n",
       "</style>\n",
       "<table border=\"1\" class=\"dataframe\">\n",
       "  <thead>\n",
       "    <tr style=\"text-align: right;\">\n",
       "      <th></th>\n",
       "      <th>ID_x</th>\n",
       "      <th>Name</th>\n",
       "      <th>Street</th>\n",
       "      <th>Phone</th>\n",
       "      <th>ID_y</th>\n",
       "      <th>Item</th>\n",
       "      <th>Amount</th>\n",
       "      <th>Prize</th>\n",
       "      <th>Customer</th>\n",
       "    </tr>\n",
       "  </thead>\n",
       "  <tbody>\n",
       "    <tr>\n",
       "      <th>0</th>\n",
       "      <td>1.0</td>\n",
       "      <td>Gerry Schaefer</td>\n",
       "      <td>Elizbeth Carroll Street</td>\n",
       "      <td>9.624156e+09</td>\n",
       "      <td>10784.0</td>\n",
       "      <td>Dillon Crist</td>\n",
       "      <td>2.0</td>\n",
       "      <td>29.916634</td>\n",
       "      <td>1.0</td>\n",
       "    </tr>\n",
       "    <tr>\n",
       "      <th>1</th>\n",
       "      <td>1.0</td>\n",
       "      <td>Gerry Schaefer</td>\n",
       "      <td>Elizbeth Carroll Street</td>\n",
       "      <td>9.624156e+09</td>\n",
       "      <td>10804.0</td>\n",
       "      <td>Jermaine D'Amore</td>\n",
       "      <td>6.0</td>\n",
       "      <td>93.976604</td>\n",
       "      <td>1.0</td>\n",
       "    </tr>\n",
       "    <tr>\n",
       "      <th>2</th>\n",
       "      <td>2.0</td>\n",
       "      <td>Lizabeth Armstrong</td>\n",
       "      <td>Art Kirlin Street</td>\n",
       "      <td>6.174622e+09</td>\n",
       "      <td>11005.0</td>\n",
       "      <td>Gennie Ferry</td>\n",
       "      <td>8.0</td>\n",
       "      <td>62.931166</td>\n",
       "      <td>2.0</td>\n",
       "    </tr>\n",
       "  </tbody>\n",
       "</table>\n",
       "</div>"
      ],
      "text/plain": [
       "   ID_x                Name                     Street         Phone     ID_y  \\\n",
       "0   1.0      Gerry Schaefer  Elizbeth Carroll Street    9.624156e+09  10784.0   \n",
       "1   1.0      Gerry Schaefer  Elizbeth Carroll Street    9.624156e+09  10804.0   \n",
       "2   2.0  Lizabeth Armstrong        Art Kirlin Street    6.174622e+09  11005.0   \n",
       "\n",
       "               Item  Amount      Prize  Customer  \n",
       "0      Dillon Crist     2.0  29.916634       1.0  \n",
       "1  Jermaine D'Amore     6.0  93.976604       1.0  \n",
       "2      Gennie Ferry     8.0  62.931166       2.0  "
      ]
     },
     "execution_count": 9,
     "metadata": {},
     "output_type": "execute_result"
    }
   ],
   "source": [
    "merged_df3 = pd.merge(df_customers, df_orders, left_on=\"ID\", right_on=\"Customer\", how=\"outer\")\n",
    "merged_df3.head(3)"
   ]
  },
  {
   "cell_type": "markdown",
   "metadata": {},
   "source": [
    "##### 5. Create a dataframe that contains all customers that have _not_ placed an order yet"
   ]
  },
  {
   "cell_type": "code",
   "execution_count": 10,
   "metadata": {},
   "outputs": [
    {
     "data": {
      "text/html": [
       "<div>\n",
       "<style scoped>\n",
       "    .dataframe tbody tr th:only-of-type {\n",
       "        vertical-align: middle;\n",
       "    }\n",
       "\n",
       "    .dataframe tbody tr th {\n",
       "        vertical-align: top;\n",
       "    }\n",
       "\n",
       "    .dataframe thead th {\n",
       "        text-align: right;\n",
       "    }\n",
       "</style>\n",
       "<table border=\"1\" class=\"dataframe\">\n",
       "  <thead>\n",
       "    <tr style=\"text-align: right;\">\n",
       "      <th></th>\n",
       "      <th>ID_x</th>\n",
       "      <th>Name</th>\n",
       "      <th>Street</th>\n",
       "      <th>Phone</th>\n",
       "      <th>ID_y</th>\n",
       "      <th>Item</th>\n",
       "      <th>Amount</th>\n",
       "      <th>Prize</th>\n",
       "      <th>Customer</th>\n",
       "    </tr>\n",
       "  </thead>\n",
       "  <tbody>\n",
       "    <tr>\n",
       "      <th>3</th>\n",
       "      <td>3</td>\n",
       "      <td>Ming Veum</td>\n",
       "      <td>Eusebio Pagac Street</td>\n",
       "      <td>6845739684</td>\n",
       "      <td>NaN</td>\n",
       "      <td>NaN</td>\n",
       "      <td>NaN</td>\n",
       "      <td>NaN</td>\n",
       "      <td>NaN</td>\n",
       "    </tr>\n",
       "    <tr>\n",
       "      <th>4</th>\n",
       "      <td>4</td>\n",
       "      <td>Marcelino Larson</td>\n",
       "      <td>Jules Gutkowski Road</td>\n",
       "      <td>1594525216</td>\n",
       "      <td>NaN</td>\n",
       "      <td>NaN</td>\n",
       "      <td>NaN</td>\n",
       "      <td>NaN</td>\n",
       "      <td>NaN</td>\n",
       "    </tr>\n",
       "    <tr>\n",
       "      <th>5</th>\n",
       "      <td>5</td>\n",
       "      <td>Brooke Ortiz</td>\n",
       "      <td>Monte Predovic Road</td>\n",
       "      <td>7618645478</td>\n",
       "      <td>NaN</td>\n",
       "      <td>NaN</td>\n",
       "      <td>NaN</td>\n",
       "      <td>NaN</td>\n",
       "      <td>NaN</td>\n",
       "    </tr>\n",
       "  </tbody>\n",
       "</table>\n",
       "</div>"
      ],
      "text/plain": [
       "   ID_x              Name                  Street       Phone  ID_y Item  \\\n",
       "3     3         Ming Veum  Eusebio Pagac Street    6845739684   NaN  NaN   \n",
       "4     4  Marcelino Larson  Jules Gutkowski Road    1594525216   NaN  NaN   \n",
       "5     5      Brooke Ortiz   Monte Predovic Road    7618645478   NaN  NaN   \n",
       "\n",
       "   Amount  Prize  Customer  \n",
       "3     NaN    NaN       NaN  \n",
       "4     NaN    NaN       NaN  \n",
       "5     NaN    NaN       NaN  "
      ]
     },
     "execution_count": 10,
     "metadata": {},
     "output_type": "execute_result"
    }
   ],
   "source": [
    "merged_df4 = pd.merge(df_customers, df_orders, left_on=\"ID\", right_on=\"Customer\", how=\"left\")\n",
    "df4_without_customer_orders = merged_df4[merged_df4[\"Customer\"].isna()]\n",
    "df4_without_customer_orders.head(3)"
   ]
  }
 ],
 "metadata": {
  "kernelspec": {
   "display_name": "Python 3 (ipykernel)",
   "language": "python",
   "name": "python3"
  },
  "language_info": {
   "codemirror_mode": {
    "name": "ipython",
    "version": 3
   },
   "file_extension": ".py",
   "mimetype": "text/x-python",
   "name": "python",
   "nbconvert_exporter": "python",
   "pygments_lexer": "ipython3",
   "version": "3.12.4"
  }
 },
 "nbformat": 4,
 "nbformat_minor": 4
}
