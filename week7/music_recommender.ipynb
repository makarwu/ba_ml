{
 "cells": [
  {
   "cell_type": "markdown",
   "metadata": {},
   "source": [
    "# Preparing the development of a music recommender system"
   ]
  },
  {
   "cell_type": "code",
   "execution_count": 1,
   "metadata": {},
   "outputs": [],
   "source": [
    "import pandas as pd\n",
    "import numpy as np\n",
    "import matplotlib.pyplot as plt"
   ]
  },
  {
   "cell_type": "markdown",
   "metadata": {},
   "source": [
    "### Data Cleaning"
   ]
  },
  {
   "cell_type": "markdown",
   "metadata": {},
   "source": [
    "##### users.csv"
   ]
  },
  {
   "cell_type": "markdown",
   "metadata": {},
   "source": [
    "**Task**: Import the *users.csv* file "
   ]
  },
  {
   "cell_type": "code",
   "execution_count": 8,
   "metadata": {},
   "outputs": [
    {
     "data": {
      "text/html": [
       "<div>\n",
       "<style scoped>\n",
       "    .dataframe tbody tr th:only-of-type {\n",
       "        vertical-align: middle;\n",
       "    }\n",
       "\n",
       "    .dataframe tbody tr th {\n",
       "        vertical-align: top;\n",
       "    }\n",
       "\n",
       "    .dataframe thead th {\n",
       "        text-align: right;\n",
       "    }\n",
       "</style>\n",
       "<table border=\"1\" class=\"dataframe\">\n",
       "  <thead>\n",
       "    <tr style=\"text-align: right;\">\n",
       "      <th></th>\n",
       "      <th>uid;p;m1;m2;m3</th>\n",
       "    </tr>\n",
       "  </thead>\n",
       "  <tbody>\n",
       "    <tr>\n",
       "      <th>0</th>\n",
       "      <td>33616;1;1136;;1250.6320492991067</td>\n",
       "    </tr>\n",
       "    <tr>\n",
       "      <th>1</th>\n",
       "      <td>32048;Yes;2011;;2294.355415100163</td>\n",
       "    </tr>\n",
       "    <tr>\n",
       "      <th>2</th>\n",
       "      <td>29095;Yes;1486;;1346.6327689420677</td>\n",
       "    </tr>\n",
       "    <tr>\n",
       "      <th>3</th>\n",
       "      <td>32106;No;131;;140.6399934371262</td>\n",
       "    </tr>\n",
       "    <tr>\n",
       "      <th>4</th>\n",
       "      <td>31885;Yes;929;;820.273300749299</td>\n",
       "    </tr>\n",
       "  </tbody>\n",
       "</table>\n",
       "</div>"
      ],
      "text/plain": [
       "                       uid;p;m1;m2;m3\n",
       "0    33616;1;1136;;1250.6320492991067\n",
       "1   32048;Yes;2011;;2294.355415100163\n",
       "2  29095;Yes;1486;;1346.6327689420677\n",
       "3     32106;No;131;;140.6399934371262\n",
       "4     31885;Yes;929;;820.273300749299"
      ]
     },
     "execution_count": 8,
     "metadata": {},
     "output_type": "execute_result"
    }
   ],
   "source": [
    "df_users = pd.read_csv(\"users.csv\")\n",
    "df_users.head()"
   ]
  },
  {
   "cell_type": "markdown",
   "metadata": {},
   "source": [
    "**Task**: Rename the columns according to the description in the exercise sheet into a more readible format."
   ]
  },
  {
   "cell_type": "code",
   "execution_count": 9,
   "metadata": {},
   "outputs": [
    {
     "data": {
      "text/html": [
       "<div>\n",
       "<style scoped>\n",
       "    .dataframe tbody tr th:only-of-type {\n",
       "        vertical-align: middle;\n",
       "    }\n",
       "\n",
       "    .dataframe tbody tr th {\n",
       "        vertical-align: top;\n",
       "    }\n",
       "\n",
       "    .dataframe thead th {\n",
       "        text-align: right;\n",
       "    }\n",
       "</style>\n",
       "<table border=\"1\" class=\"dataframe\">\n",
       "  <thead>\n",
       "    <tr style=\"text-align: right;\">\n",
       "      <th></th>\n",
       "      <th>uuid</th>\n",
       "      <th>p</th>\n",
       "      <th>m1</th>\n",
       "      <th>m2</th>\n",
       "      <th>m3</th>\n",
       "    </tr>\n",
       "  </thead>\n",
       "  <tbody>\n",
       "    <tr>\n",
       "      <th>0</th>\n",
       "      <td>33616</td>\n",
       "      <td>1</td>\n",
       "      <td>1136</td>\n",
       "      <td>NaN</td>\n",
       "      <td>1250.632049</td>\n",
       "    </tr>\n",
       "    <tr>\n",
       "      <th>1</th>\n",
       "      <td>32048</td>\n",
       "      <td>Yes</td>\n",
       "      <td>2011</td>\n",
       "      <td>NaN</td>\n",
       "      <td>2294.355415</td>\n",
       "    </tr>\n",
       "    <tr>\n",
       "      <th>2</th>\n",
       "      <td>29095</td>\n",
       "      <td>Yes</td>\n",
       "      <td>1486</td>\n",
       "      <td>NaN</td>\n",
       "      <td>1346.632769</td>\n",
       "    </tr>\n",
       "    <tr>\n",
       "      <th>3</th>\n",
       "      <td>32106</td>\n",
       "      <td>No</td>\n",
       "      <td>131</td>\n",
       "      <td>NaN</td>\n",
       "      <td>140.639993</td>\n",
       "    </tr>\n",
       "    <tr>\n",
       "      <th>4</th>\n",
       "      <td>31885</td>\n",
       "      <td>Yes</td>\n",
       "      <td>929</td>\n",
       "      <td>NaN</td>\n",
       "      <td>820.273301</td>\n",
       "    </tr>\n",
       "    <tr>\n",
       "      <th>5</th>\n",
       "      <td>33704</td>\n",
       "      <td>1</td>\n",
       "      <td>928</td>\n",
       "      <td>NaN</td>\n",
       "      <td>946.878506</td>\n",
       "    </tr>\n",
       "    <tr>\n",
       "      <th>6</th>\n",
       "      <td>27940</td>\n",
       "      <td>Yes</td>\n",
       "      <td>2168</td>\n",
       "      <td>2287.0</td>\n",
       "      <td>2256.762361</td>\n",
       "    </tr>\n",
       "    <tr>\n",
       "      <th>7</th>\n",
       "      <td>32566</td>\n",
       "      <td>No</td>\n",
       "      <td>1220</td>\n",
       "      <td>NaN</td>\n",
       "      <td>1168.001188</td>\n",
       "    </tr>\n",
       "    <tr>\n",
       "      <th>8</th>\n",
       "      <td>33727</td>\n",
       "      <td>0</td>\n",
       "      <td>1505</td>\n",
       "      <td>NaN</td>\n",
       "      <td>1519.308251</td>\n",
       "    </tr>\n",
       "    <tr>\n",
       "      <th>9</th>\n",
       "      <td>27803</td>\n",
       "      <td>1</td>\n",
       "      <td>633</td>\n",
       "      <td>NaN</td>\n",
       "      <td>686.691261</td>\n",
       "    </tr>\n",
       "  </tbody>\n",
       "</table>\n",
       "</div>"
      ],
      "text/plain": [
       "    uuid    p    m1      m2           m3\n",
       "0  33616    1  1136     NaN  1250.632049\n",
       "1  32048  Yes  2011     NaN  2294.355415\n",
       "2  29095  Yes  1486     NaN  1346.632769\n",
       "3  32106   No   131     NaN   140.639993\n",
       "4  31885  Yes   929     NaN   820.273301\n",
       "5  33704    1   928     NaN   946.878506\n",
       "6  27940  Yes  2168  2287.0  2256.762361\n",
       "7  32566   No  1220     NaN  1168.001188\n",
       "8  33727    0  1505     NaN  1519.308251\n",
       "9  27803    1   633     NaN   686.691261"
      ]
     },
     "execution_count": 9,
     "metadata": {},
     "output_type": "execute_result"
    }
   ],
   "source": [
    "df_users = pd.read_csv(\"users.csv\", delimiter=\";\")\n",
    "df_users.columns = [\"uuid\", \"p\", \"m1\", \"m2\", \"m3\"]\n",
    "df_users.head(10)"
   ]
  },
  {
   "cell_type": "markdown",
   "metadata": {},
   "source": [
    "**Task**: Unify the labels for the *Premium* attribute."
   ]
  },
  {
   "cell_type": "code",
   "execution_count": 12,
   "metadata": {},
   "outputs": [
    {
     "name": "stderr",
     "output_type": "stream",
     "text": [
      "/var/folders/_l/xbjs439j31l5zpbzq9pbf3p80000gn/T/ipykernel_1112/1172381580.py:2: FutureWarning: Downcasting behavior in `replace` is deprecated and will be removed in a future version. To retain the old behavior, explicitly call `result.infer_objects(copy=False)`. To opt-in to the future behavior, set `pd.set_option('future.no_silent_downcasting', True)`\n",
      "  df_users[\"p\"] = df_users[\"p\"].replace(premium_mapping)\n"
     ]
    },
    {
     "data": {
      "text/html": [
       "<div>\n",
       "<style scoped>\n",
       "    .dataframe tbody tr th:only-of-type {\n",
       "        vertical-align: middle;\n",
       "    }\n",
       "\n",
       "    .dataframe tbody tr th {\n",
       "        vertical-align: top;\n",
       "    }\n",
       "\n",
       "    .dataframe thead th {\n",
       "        text-align: right;\n",
       "    }\n",
       "</style>\n",
       "<table border=\"1\" class=\"dataframe\">\n",
       "  <thead>\n",
       "    <tr style=\"text-align: right;\">\n",
       "      <th></th>\n",
       "      <th>uuid</th>\n",
       "      <th>p</th>\n",
       "      <th>m1</th>\n",
       "      <th>m2</th>\n",
       "      <th>m3</th>\n",
       "    </tr>\n",
       "  </thead>\n",
       "  <tbody>\n",
       "    <tr>\n",
       "      <th>0</th>\n",
       "      <td>33616</td>\n",
       "      <td>True</td>\n",
       "      <td>1136</td>\n",
       "      <td>NaN</td>\n",
       "      <td>1250.632049</td>\n",
       "    </tr>\n",
       "    <tr>\n",
       "      <th>1</th>\n",
       "      <td>32048</td>\n",
       "      <td>True</td>\n",
       "      <td>2011</td>\n",
       "      <td>NaN</td>\n",
       "      <td>2294.355415</td>\n",
       "    </tr>\n",
       "    <tr>\n",
       "      <th>2</th>\n",
       "      <td>29095</td>\n",
       "      <td>True</td>\n",
       "      <td>1486</td>\n",
       "      <td>NaN</td>\n",
       "      <td>1346.632769</td>\n",
       "    </tr>\n",
       "    <tr>\n",
       "      <th>3</th>\n",
       "      <td>32106</td>\n",
       "      <td>False</td>\n",
       "      <td>131</td>\n",
       "      <td>NaN</td>\n",
       "      <td>140.639993</td>\n",
       "    </tr>\n",
       "    <tr>\n",
       "      <th>4</th>\n",
       "      <td>31885</td>\n",
       "      <td>True</td>\n",
       "      <td>929</td>\n",
       "      <td>NaN</td>\n",
       "      <td>820.273301</td>\n",
       "    </tr>\n",
       "  </tbody>\n",
       "</table>\n",
       "</div>"
      ],
      "text/plain": [
       "    uuid      p    m1  m2           m3\n",
       "0  33616   True  1136 NaN  1250.632049\n",
       "1  32048   True  2011 NaN  2294.355415\n",
       "2  29095   True  1486 NaN  1346.632769\n",
       "3  32106  False   131 NaN   140.639993\n",
       "4  31885   True   929 NaN   820.273301"
      ]
     },
     "execution_count": 12,
     "metadata": {},
     "output_type": "execute_result"
    }
   ],
   "source": [
    "premium_mapping = {\"0\": False, \"No\": False, \"1\": True, \"Yes\": True}\n",
    "df_users[\"p\"] = df_users[\"p\"].replace(premium_mapping)\n",
    "df_users.head(5)"
   ]
  },
  {
   "cell_type": "markdown",
   "metadata": {},
   "source": [
    "**Task**: Impute the missing values of the attribute *Minutes2* using the values of *Minutes1* and *Minutes3*."
   ]
  },
  {
   "cell_type": "code",
   "execution_count": 13,
   "metadata": {},
   "outputs": [
    {
     "data": {
      "text/html": [
       "<div>\n",
       "<style scoped>\n",
       "    .dataframe tbody tr th:only-of-type {\n",
       "        vertical-align: middle;\n",
       "    }\n",
       "\n",
       "    .dataframe tbody tr th {\n",
       "        vertical-align: top;\n",
       "    }\n",
       "\n",
       "    .dataframe thead th {\n",
       "        text-align: right;\n",
       "    }\n",
       "</style>\n",
       "<table border=\"1\" class=\"dataframe\">\n",
       "  <thead>\n",
       "    <tr style=\"text-align: right;\">\n",
       "      <th></th>\n",
       "      <th>uuid</th>\n",
       "      <th>p</th>\n",
       "      <th>m1</th>\n",
       "      <th>m2</th>\n",
       "      <th>m3</th>\n",
       "    </tr>\n",
       "  </thead>\n",
       "  <tbody>\n",
       "    <tr>\n",
       "      <th>0</th>\n",
       "      <td>33616</td>\n",
       "      <td>True</td>\n",
       "      <td>1136</td>\n",
       "      <td>1193.316025</td>\n",
       "      <td>1250.632049</td>\n",
       "    </tr>\n",
       "    <tr>\n",
       "      <th>1</th>\n",
       "      <td>32048</td>\n",
       "      <td>True</td>\n",
       "      <td>2011</td>\n",
       "      <td>2152.677708</td>\n",
       "      <td>2294.355415</td>\n",
       "    </tr>\n",
       "    <tr>\n",
       "      <th>2</th>\n",
       "      <td>29095</td>\n",
       "      <td>True</td>\n",
       "      <td>1486</td>\n",
       "      <td>1416.316384</td>\n",
       "      <td>1346.632769</td>\n",
       "    </tr>\n",
       "    <tr>\n",
       "      <th>3</th>\n",
       "      <td>32106</td>\n",
       "      <td>False</td>\n",
       "      <td>131</td>\n",
       "      <td>135.819997</td>\n",
       "      <td>140.639993</td>\n",
       "    </tr>\n",
       "    <tr>\n",
       "      <th>4</th>\n",
       "      <td>31885</td>\n",
       "      <td>True</td>\n",
       "      <td>929</td>\n",
       "      <td>874.636650</td>\n",
       "      <td>820.273301</td>\n",
       "    </tr>\n",
       "  </tbody>\n",
       "</table>\n",
       "</div>"
      ],
      "text/plain": [
       "    uuid      p    m1           m2           m3\n",
       "0  33616   True  1136  1193.316025  1250.632049\n",
       "1  32048   True  2011  2152.677708  2294.355415\n",
       "2  29095   True  1486  1416.316384  1346.632769\n",
       "3  32106  False   131   135.819997   140.639993\n",
       "4  31885   True   929   874.636650   820.273301"
      ]
     },
     "execution_count": 13,
     "metadata": {},
     "output_type": "execute_result"
    }
   ],
   "source": [
    "df_users[\"m2\"] = df_users.apply(\n",
    "    lambda row: (row[\"m1\"] + row[\"m3\"]) / 2 if pd.isna(row[\"m2\"]) else row[\"m2\"],\n",
    "    axis = 1\n",
    ")\n",
    "df_users.head()"
   ]
  },
  {
   "cell_type": "markdown",
   "metadata": {},
   "source": [
    "##### user_behavior.csv"
   ]
  },
  {
   "cell_type": "markdown",
   "metadata": {},
   "source": [
    "**Task**: Read the *user_behavior.csv* file."
   ]
  },
  {
   "cell_type": "code",
   "execution_count": 21,
   "metadata": {},
   "outputs": [
    {
     "data": {
      "text/html": [
       "<div>\n",
       "<style scoped>\n",
       "    .dataframe tbody tr th:only-of-type {\n",
       "        vertical-align: middle;\n",
       "    }\n",
       "\n",
       "    .dataframe tbody tr th {\n",
       "        vertical-align: top;\n",
       "    }\n",
       "\n",
       "    .dataframe thead th {\n",
       "        text-align: right;\n",
       "    }\n",
       "</style>\n",
       "<table border=\"1\" class=\"dataframe\">\n",
       "  <thead>\n",
       "    <tr style=\"text-align: right;\">\n",
       "      <th></th>\n",
       "      <th>user_id;song_id;num_clicks;ml;g;f;mod;artists</th>\n",
       "    </tr>\n",
       "  </thead>\n",
       "  <tbody>\n",
       "    <tr>\n",
       "      <th>0</th>\n",
       "      <td>29158;55060;64;251.98245996954293;Rock;1;2023-...</td>\n",
       "    </tr>\n",
       "    <tr>\n",
       "      <th>1</th>\n",
       "      <td>33692;5080;63;260.00105640445656;Pop;0;2023-08...</td>\n",
       "    </tr>\n",
       "    <tr>\n",
       "      <th>2</th>\n",
       "      <td>31198;25839;24;105.3550203608923;Hip-Hop;1;202...</td>\n",
       "    </tr>\n",
       "    <tr>\n",
       "      <th>3</th>\n",
       "      <td>33302;87341;36;142.08526712340915;Electronic;0...</td>\n",
       "    </tr>\n",
       "    <tr>\n",
       "      <th>4</th>\n",
       "      <td>34592;47110;74;301.3149939582877;Pop;0;2023-04...</td>\n",
       "    </tr>\n",
       "  </tbody>\n",
       "</table>\n",
       "</div>"
      ],
      "text/plain": [
       "       user_id;song_id;num_clicks;ml;g;f;mod;artists\n",
       "0  29158;55060;64;251.98245996954293;Rock;1;2023-...\n",
       "1  33692;5080;63;260.00105640445656;Pop;0;2023-08...\n",
       "2  31198;25839;24;105.3550203608923;Hip-Hop;1;202...\n",
       "3  33302;87341;36;142.08526712340915;Electronic;0...\n",
       "4  34592;47110;74;301.3149939582877;Pop;0;2023-04..."
      ]
     },
     "execution_count": 21,
     "metadata": {},
     "output_type": "execute_result"
    }
   ],
   "source": [
    "df_behavior = pd.read_csv(\"user_behavior.csv\")\n",
    "df_behavior.head()"
   ]
  },
  {
   "cell_type": "markdown",
   "metadata": {},
   "source": [
    "**Task**: Rename the columns according to the description in the exercise sheet."
   ]
  },
  {
   "cell_type": "code",
   "execution_count": 24,
   "metadata": {},
   "outputs": [
    {
     "data": {
      "text/html": [
       "<div>\n",
       "<style scoped>\n",
       "    .dataframe tbody tr th:only-of-type {\n",
       "        vertical-align: middle;\n",
       "    }\n",
       "\n",
       "    .dataframe tbody tr th {\n",
       "        vertical-align: top;\n",
       "    }\n",
       "\n",
       "    .dataframe thead th {\n",
       "        text-align: right;\n",
       "    }\n",
       "</style>\n",
       "<table border=\"1\" class=\"dataframe\">\n",
       "  <thead>\n",
       "    <tr style=\"text-align: right;\">\n",
       "      <th></th>\n",
       "      <th>user_id</th>\n",
       "      <th>song_id</th>\n",
       "      <th>artists</th>\n",
       "      <th>num_clicks</th>\n",
       "      <th>ml</th>\n",
       "      <th>g</th>\n",
       "      <th>f</th>\n",
       "      <th>mod</th>\n",
       "    </tr>\n",
       "  </thead>\n",
       "  <tbody>\n",
       "    <tr>\n",
       "      <th>0</th>\n",
       "      <td>29158</td>\n",
       "      <td>55060</td>\n",
       "      <td>64</td>\n",
       "      <td>251.982460</td>\n",
       "      <td>Rock</td>\n",
       "      <td>1</td>\n",
       "      <td>2023-09-22</td>\n",
       "      <td>662</td>\n",
       "    </tr>\n",
       "    <tr>\n",
       "      <th>1</th>\n",
       "      <td>33692</td>\n",
       "      <td>5080</td>\n",
       "      <td>63</td>\n",
       "      <td>260.001056</td>\n",
       "      <td>Pop</td>\n",
       "      <td>0</td>\n",
       "      <td>2023-08-14</td>\n",
       "      <td>4937</td>\n",
       "    </tr>\n",
       "    <tr>\n",
       "      <th>2</th>\n",
       "      <td>31198</td>\n",
       "      <td>25839</td>\n",
       "      <td>24</td>\n",
       "      <td>105.355020</td>\n",
       "      <td>Hip-Hop</td>\n",
       "      <td>1</td>\n",
       "      <td>2023-06-24</td>\n",
       "      <td>6289</td>\n",
       "    </tr>\n",
       "  </tbody>\n",
       "</table>\n",
       "</div>"
      ],
      "text/plain": [
       "   user_id  song_id  artists  num_clicks       ml  g           f   mod\n",
       "0    29158    55060       64  251.982460     Rock  1  2023-09-22   662\n",
       "1    33692     5080       63  260.001056      Pop  0  2023-08-14  4937\n",
       "2    31198    25839       24  105.355020  Hip-Hop  1  2023-06-24  6289"
      ]
     },
     "execution_count": 24,
     "metadata": {},
     "output_type": "execute_result"
    }
   ],
   "source": [
    "df_behavior = pd.read_csv(\"user_behavior.csv\", delimiter=\";\")\n",
    "df_behavior.columns = [\"user_id\", \"song_id\", \"artists\", \"num_clicks\", \"ml\", \"g\", \"f\", \"mod\"]\n",
    "df_behavior.head(3)"
   ]
  },
  {
   "cell_type": "markdown",
   "metadata": {},
   "source": [
    "**Task:** Fix the data types of the attributes *Genre* (categorical) and *Favorite* (binary, categorical)."
   ]
  },
  {
   "cell_type": "code",
   "execution_count": 31,
   "metadata": {},
   "outputs": [
    {
     "data": {
      "text/html": [
       "<div>\n",
       "<style scoped>\n",
       "    .dataframe tbody tr th:only-of-type {\n",
       "        vertical-align: middle;\n",
       "    }\n",
       "\n",
       "    .dataframe tbody tr th {\n",
       "        vertical-align: top;\n",
       "    }\n",
       "\n",
       "    .dataframe thead th {\n",
       "        text-align: right;\n",
       "    }\n",
       "</style>\n",
       "<table border=\"1\" class=\"dataframe\">\n",
       "  <thead>\n",
       "    <tr style=\"text-align: right;\">\n",
       "      <th></th>\n",
       "      <th>user_id</th>\n",
       "      <th>song_id</th>\n",
       "      <th>artists</th>\n",
       "      <th>num_clicks</th>\n",
       "      <th>g</th>\n",
       "      <th>f</th>\n",
       "      <th>mod</th>\n",
       "      <th>ml</th>\n",
       "    </tr>\n",
       "  </thead>\n",
       "  <tbody>\n",
       "    <tr>\n",
       "      <th>0</th>\n",
       "      <td>29158</td>\n",
       "      <td>55060</td>\n",
       "      <td>64</td>\n",
       "      <td>251.982460</td>\n",
       "      <td>Rock</td>\n",
       "      <td>1</td>\n",
       "      <td>2023-09-22</td>\n",
       "      <td>662</td>\n",
       "    </tr>\n",
       "    <tr>\n",
       "      <th>1</th>\n",
       "      <td>33692</td>\n",
       "      <td>5080</td>\n",
       "      <td>63</td>\n",
       "      <td>260.001056</td>\n",
       "      <td>Pop</td>\n",
       "      <td>0</td>\n",
       "      <td>2023-08-14</td>\n",
       "      <td>4937</td>\n",
       "    </tr>\n",
       "    <tr>\n",
       "      <th>2</th>\n",
       "      <td>31198</td>\n",
       "      <td>25839</td>\n",
       "      <td>24</td>\n",
       "      <td>105.355020</td>\n",
       "      <td>Hip-Hop</td>\n",
       "      <td>1</td>\n",
       "      <td>2023-06-24</td>\n",
       "      <td>6289</td>\n",
       "    </tr>\n",
       "  </tbody>\n",
       "</table>\n",
       "</div>"
      ],
      "text/plain": [
       "   user_id  song_id  artists  num_clicks        g  f         mod    ml\n",
       "0    29158    55060       64  251.982460     Rock  1  2023-09-22   662\n",
       "1    33692     5080       63  260.001056      Pop  0  2023-08-14  4937\n",
       "2    31198    25839       24  105.355020  Hip-Hop  1  2023-06-24  6289"
      ]
     },
     "execution_count": 31,
     "metadata": {},
     "output_type": "execute_result"
    }
   ],
   "source": [
    "df_behavior.columns = [\"user_id\", \"song_id\", \"artists\", \"num_clicks\", \"g\", \"f\", \"mod\", \"ml\"]\n",
    "df_behavior.head(3)"
   ]
  },
  {
   "cell_type": "markdown",
   "metadata": {},
   "source": [
    "**Task:** Some genres have more songs than others. Adjust the data set such that it includes only the four largest genres and the genre \"Other\" that summarizes all remaining genres."
   ]
  },
  {
   "cell_type": "code",
   "execution_count": 38,
   "metadata": {},
   "outputs": [
    {
     "data": {
      "text/plain": [
       "g\n",
       "Other         2055\n",
       "Electronic    2036\n",
       "Rock          1978\n",
       "Hip-Hop       1977\n",
       "Pop           1954\n",
       "Name: count, dtype: int64"
      ]
     },
     "execution_count": 38,
     "metadata": {},
     "output_type": "execute_result"
    }
   ],
   "source": [
    "genre_counts = df_behavior[\"g\"].value_counts()\n",
    "top_4_genres = genre_counts.head(4).index\n",
    "df_behavior[\"g\"] = df_behavior[\"g\"].apply(lambda x: x if x in top_4_genres else \"Other\")\n",
    "df_behavior[\"g\"].value_counts()"
   ]
  },
  {
   "cell_type": "markdown",
   "metadata": {},
   "source": [
    "**Task:** Create for a new column for the weekday, year, month, and day of each date names *ModifiedAt*."
   ]
  },
  {
   "cell_type": "code",
   "execution_count": 39,
   "metadata": {},
   "outputs": [
    {
     "data": {
      "text/html": [
       "<div>\n",
       "<style scoped>\n",
       "    .dataframe tbody tr th:only-of-type {\n",
       "        vertical-align: middle;\n",
       "    }\n",
       "\n",
       "    .dataframe tbody tr th {\n",
       "        vertical-align: top;\n",
       "    }\n",
       "\n",
       "    .dataframe thead th {\n",
       "        text-align: right;\n",
       "    }\n",
       "</style>\n",
       "<table border=\"1\" class=\"dataframe\">\n",
       "  <thead>\n",
       "    <tr style=\"text-align: right;\">\n",
       "      <th></th>\n",
       "      <th>user_id</th>\n",
       "      <th>song_id</th>\n",
       "      <th>artists</th>\n",
       "      <th>num_clicks</th>\n",
       "      <th>g</th>\n",
       "      <th>f</th>\n",
       "      <th>mod</th>\n",
       "      <th>ml</th>\n",
       "      <th>Weekday</th>\n",
       "      <th>Year</th>\n",
       "      <th>Month</th>\n",
       "      <th>Day</th>\n",
       "    </tr>\n",
       "  </thead>\n",
       "  <tbody>\n",
       "    <tr>\n",
       "      <th>0</th>\n",
       "      <td>29158</td>\n",
       "      <td>55060</td>\n",
       "      <td>64</td>\n",
       "      <td>251.982460</td>\n",
       "      <td>Rock</td>\n",
       "      <td>1</td>\n",
       "      <td>2023-09-22</td>\n",
       "      <td>662</td>\n",
       "      <td>Friday</td>\n",
       "      <td>2023</td>\n",
       "      <td>9</td>\n",
       "      <td>22</td>\n",
       "    </tr>\n",
       "    <tr>\n",
       "      <th>1</th>\n",
       "      <td>33692</td>\n",
       "      <td>5080</td>\n",
       "      <td>63</td>\n",
       "      <td>260.001056</td>\n",
       "      <td>Pop</td>\n",
       "      <td>0</td>\n",
       "      <td>2023-08-14</td>\n",
       "      <td>4937</td>\n",
       "      <td>Monday</td>\n",
       "      <td>2023</td>\n",
       "      <td>8</td>\n",
       "      <td>14</td>\n",
       "    </tr>\n",
       "    <tr>\n",
       "      <th>2</th>\n",
       "      <td>31198</td>\n",
       "      <td>25839</td>\n",
       "      <td>24</td>\n",
       "      <td>105.355020</td>\n",
       "      <td>Hip-Hop</td>\n",
       "      <td>1</td>\n",
       "      <td>2023-06-24</td>\n",
       "      <td>6289</td>\n",
       "      <td>Saturday</td>\n",
       "      <td>2023</td>\n",
       "      <td>6</td>\n",
       "      <td>24</td>\n",
       "    </tr>\n",
       "  </tbody>\n",
       "</table>\n",
       "</div>"
      ],
      "text/plain": [
       "   user_id  song_id  artists  num_clicks        g  f        mod    ml  \\\n",
       "0    29158    55060       64  251.982460     Rock  1 2023-09-22   662   \n",
       "1    33692     5080       63  260.001056      Pop  0 2023-08-14  4937   \n",
       "2    31198    25839       24  105.355020  Hip-Hop  1 2023-06-24  6289   \n",
       "\n",
       "    Weekday  Year  Month  Day  \n",
       "0    Friday  2023      9   22  \n",
       "1    Monday  2023      8   14  \n",
       "2  Saturday  2023      6   24  "
      ]
     },
     "execution_count": 39,
     "metadata": {},
     "output_type": "execute_result"
    }
   ],
   "source": [
    "df_behavior[\"mod\"] = pd.to_datetime(df_behavior[\"mod\"])\n",
    "df_behavior[\"Weekday\"] = df_behavior[\"mod\"].dt.day_name() \n",
    "df_behavior[\"Year\"] = df_behavior[\"mod\"].dt.year  \n",
    "df_behavior[\"Month\"] = df_behavior[\"mod\"].dt.month  \n",
    "df_behavior[\"Day\"] = df_behavior[\"mod\"].dt.day\n",
    "df_behavior.head(3)"
   ]
  },
  {
   "cell_type": "markdown",
   "metadata": {},
   "source": [
    "#### artists.csv"
   ]
  },
  {
   "cell_type": "markdown",
   "metadata": {},
   "source": [
    "**Task**: Read the *artists.csv* file and re-name the columns according to the exercise sheet."
   ]
  },
  {
   "cell_type": "code",
   "execution_count": 40,
   "metadata": {},
   "outputs": [
    {
     "data": {
      "text/html": [
       "<div>\n",
       "<style scoped>\n",
       "    .dataframe tbody tr th:only-of-type {\n",
       "        vertical-align: middle;\n",
       "    }\n",
       "\n",
       "    .dataframe tbody tr th {\n",
       "        vertical-align: top;\n",
       "    }\n",
       "\n",
       "    .dataframe thead th {\n",
       "        text-align: right;\n",
       "    }\n",
       "</style>\n",
       "<table border=\"1\" class=\"dataframe\">\n",
       "  <thead>\n",
       "    <tr style=\"text-align: right;\">\n",
       "      <th></th>\n",
       "      <th>artist_id</th>\n",
       "      <th>genre</th>\n",
       "      <th>featured</th>\n",
       "      <th>monthly_listeners</th>\n",
       "    </tr>\n",
       "  </thead>\n",
       "  <tbody>\n",
       "    <tr>\n",
       "      <th>0</th>\n",
       "      <td>8497</td>\n",
       "      <td>Error</td>\n",
       "      <td>0</td>\n",
       "      <td>529178</td>\n",
       "    </tr>\n",
       "    <tr>\n",
       "      <th>1</th>\n",
       "      <td>3331</td>\n",
       "      <td>Error</td>\n",
       "      <td>0</td>\n",
       "      <td>1319507</td>\n",
       "    </tr>\n",
       "    <tr>\n",
       "      <th>2</th>\n",
       "      <td>7097</td>\n",
       "      <td>Rock</td>\n",
       "      <td>0</td>\n",
       "      <td>739339</td>\n",
       "    </tr>\n",
       "  </tbody>\n",
       "</table>\n",
       "</div>"
      ],
      "text/plain": [
       "   artist_id  genre  featured  monthly_listeners\n",
       "0       8497  Error         0             529178\n",
       "1       3331  Error         0            1319507\n",
       "2       7097   Rock         0             739339"
      ]
     },
     "execution_count": 40,
     "metadata": {},
     "output_type": "execute_result"
    }
   ],
   "source": [
    "df_artists = pd.read_csv(\"artists.csv\", delimiter=\";\")\n",
    "df_artists.columns = [\"artist_id\", \"genre\", \"featured\", \"monthly_listeners\"]\n",
    "df_artists.head(3)"
   ]
  },
  {
   "cell_type": "markdown",
   "metadata": {},
   "source": [
    "**Task:** Convert the attributes *Genre* and *Featured* to categorical variables."
   ]
  },
  {
   "cell_type": "code",
   "execution_count": 42,
   "metadata": {},
   "outputs": [
    {
     "data": {
      "text/html": [
       "<div>\n",
       "<style scoped>\n",
       "    .dataframe tbody tr th:only-of-type {\n",
       "        vertical-align: middle;\n",
       "    }\n",
       "\n",
       "    .dataframe tbody tr th {\n",
       "        vertical-align: top;\n",
       "    }\n",
       "\n",
       "    .dataframe thead th {\n",
       "        text-align: right;\n",
       "    }\n",
       "</style>\n",
       "<table border=\"1\" class=\"dataframe\">\n",
       "  <thead>\n",
       "    <tr style=\"text-align: right;\">\n",
       "      <th></th>\n",
       "      <th>artist_id</th>\n",
       "      <th>genre</th>\n",
       "      <th>featured</th>\n",
       "      <th>monthly_listeners</th>\n",
       "    </tr>\n",
       "  </thead>\n",
       "  <tbody>\n",
       "    <tr>\n",
       "      <th>0</th>\n",
       "      <td>8497</td>\n",
       "      <td>Error</td>\n",
       "      <td>0</td>\n",
       "      <td>529178</td>\n",
       "    </tr>\n",
       "    <tr>\n",
       "      <th>1</th>\n",
       "      <td>3331</td>\n",
       "      <td>Error</td>\n",
       "      <td>0</td>\n",
       "      <td>1319507</td>\n",
       "    </tr>\n",
       "    <tr>\n",
       "      <th>2</th>\n",
       "      <td>7097</td>\n",
       "      <td>Rock</td>\n",
       "      <td>0</td>\n",
       "      <td>739339</td>\n",
       "    </tr>\n",
       "  </tbody>\n",
       "</table>\n",
       "</div>"
      ],
      "text/plain": [
       "   artist_id  genre featured  monthly_listeners\n",
       "0       8497  Error        0             529178\n",
       "1       3331  Error        0            1319507\n",
       "2       7097   Rock        0             739339"
      ]
     },
     "execution_count": 42,
     "metadata": {},
     "output_type": "execute_result"
    }
   ],
   "source": [
    "df_artists[\"genre\"] = df_artists[\"genre\"].astype(\"category\")\n",
    "df_artists[\"featured\"] = df_artists[\"featured\"].astype(\"category\")\n",
    "df_artists.head(3)"
   ]
  },
  {
   "cell_type": "markdown",
   "metadata": {},
   "source": [
    "### Data aggregation"
   ]
  },
  {
   "cell_type": "markdown",
   "metadata": {},
   "source": [
    "**Task:** Merge the *users* and *user_behavior* tables together. Create a view in which you determine how many minutes a user listens to songs on average. Additionally, what is the highest number of clicks a user had on a song?"
   ]
  },
  {
   "cell_type": "code",
   "execution_count": 54,
   "metadata": {},
   "outputs": [],
   "source": [
    "df_concat = pd.concat([df_users, df_behavior], axis=1)"
   ]
  },
  {
   "cell_type": "code",
   "execution_count": 61,
   "metadata": {},
   "outputs": [
    {
     "data": {
      "text/html": [
       "<div>\n",
       "<style scoped>\n",
       "    .dataframe tbody tr th:only-of-type {\n",
       "        vertical-align: middle;\n",
       "    }\n",
       "\n",
       "    .dataframe tbody tr th {\n",
       "        vertical-align: top;\n",
       "    }\n",
       "\n",
       "    .dataframe thead th {\n",
       "        text-align: right;\n",
       "    }\n",
       "</style>\n",
       "<table border=\"1\" class=\"dataframe\">\n",
       "  <thead>\n",
       "    <tr style=\"text-align: right;\">\n",
       "      <th></th>\n",
       "      <th>avg_listen_minutes</th>\n",
       "      <th>max_num_clicks</th>\n",
       "    </tr>\n",
       "    <tr>\n",
       "      <th>user_id</th>\n",
       "      <th></th>\n",
       "      <th></th>\n",
       "    </tr>\n",
       "  </thead>\n",
       "  <tbody>\n",
       "    <tr>\n",
       "      <th>27367</th>\n",
       "      <td>1833.167647</td>\n",
       "      <td>382.176699</td>\n",
       "    </tr>\n",
       "    <tr>\n",
       "      <th>27378</th>\n",
       "      <td>1776.779570</td>\n",
       "      <td>381.835013</td>\n",
       "    </tr>\n",
       "    <tr>\n",
       "      <th>27393</th>\n",
       "      <td>790.533680</td>\n",
       "      <td>392.148320</td>\n",
       "    </tr>\n",
       "    <tr>\n",
       "      <th>27395</th>\n",
       "      <td>1417.781399</td>\n",
       "      <td>382.673128</td>\n",
       "    </tr>\n",
       "    <tr>\n",
       "      <th>27397</th>\n",
       "      <td>1477.833546</td>\n",
       "      <td>393.398265</td>\n",
       "    </tr>\n",
       "    <tr>\n",
       "      <th>...</th>\n",
       "      <td>...</td>\n",
       "      <td>...</td>\n",
       "    </tr>\n",
       "    <tr>\n",
       "      <th>37260</th>\n",
       "      <td>NaN</td>\n",
       "      <td>402.223829</td>\n",
       "    </tr>\n",
       "    <tr>\n",
       "      <th>37273</th>\n",
       "      <td>NaN</td>\n",
       "      <td>402.764502</td>\n",
       "    </tr>\n",
       "    <tr>\n",
       "      <th>37284</th>\n",
       "      <td>1345.172826</td>\n",
       "      <td>366.065651</td>\n",
       "    </tr>\n",
       "    <tr>\n",
       "      <th>37294</th>\n",
       "      <td>NaN</td>\n",
       "      <td>406.034437</td>\n",
       "    </tr>\n",
       "    <tr>\n",
       "      <th>37330</th>\n",
       "      <td>498.931749</td>\n",
       "      <td>382.150060</td>\n",
       "    </tr>\n",
       "  </tbody>\n",
       "</table>\n",
       "<p>512 rows × 2 columns</p>\n",
       "</div>"
      ],
      "text/plain": [
       "         avg_listen_minutes  max_num_clicks\n",
       "user_id                                    \n",
       "27367           1833.167647      382.176699\n",
       "27378           1776.779570      381.835013\n",
       "27393            790.533680      392.148320\n",
       "27395           1417.781399      382.673128\n",
       "27397           1477.833546      393.398265\n",
       "...                     ...             ...\n",
       "37260                   NaN      402.223829\n",
       "37273                   NaN      402.764502\n",
       "37284           1345.172826      366.065651\n",
       "37294                   NaN      406.034437\n",
       "37330            498.931749      382.150060\n",
       "\n",
       "[512 rows x 2 columns]"
      ]
     },
     "execution_count": 61,
     "metadata": {},
     "output_type": "execute_result"
    }
   ],
   "source": [
    "df_concat[\"average_minutes_listened\"] = (df_concat[\"m1\"] + df_concat[\"m2\"] + df_concat[\"m3\"]) / 3\n",
    "df_concat.groupby(\"user_id\").agg(\n",
    "    avg_listen_minutes = ('average_minutes_listened', 'mean'),\n",
    "    max_num_clicks = ('num_clicks', 'max')\n",
    ")"
   ]
  },
  {
   "cell_type": "markdown",
   "metadata": {},
   "source": [
    "**Task:** Merge the *user_behavior* and *artist* tables to determine the most clicked artist per genre (defined by the song)."
   ]
  },
  {
   "cell_type": "code",
   "execution_count": 64,
   "metadata": {},
   "outputs": [
    {
     "data": {
      "text/plain": [
       "Index(['user_id', 'song_id', 'artists', 'num_clicks', 'g', 'f', 'mod', 'ml',\n",
       "       'Weekday', 'Year', 'Month', 'Day', 'artist_id', 'genre', 'featured',\n",
       "       'monthly_listeners'],\n",
       "      dtype='object')"
      ]
     },
     "execution_count": 64,
     "metadata": {},
     "output_type": "execute_result"
    }
   ],
   "source": [
    "df_concat2 = pd.concat([df_behavior, df_artists], axis=1)\n",
    "df_concat2.columns"
   ]
  },
  {
   "cell_type": "markdown",
   "metadata": {},
   "source": [
    "Question: Why can't we just use artists.merge(user_behavior)?"
   ]
  },
  {
   "cell_type": "markdown",
   "metadata": {},
   "source": [
    "Answer: \n",
    "- Because overlapping of features such as the genre.\n",
    "- The artist can have a different (and also the same) genre than the user associated with the song."
   ]
  },
  {
   "cell_type": "markdown",
   "metadata": {},
   "source": [
    "Which is the most clicked artist per genre of the song?"
   ]
  },
  {
   "cell_type": "code",
   "execution_count": 66,
   "metadata": {},
   "outputs": [
    {
     "name": "stderr",
     "output_type": "stream",
     "text": [
      "/var/folders/_l/xbjs439j31l5zpbzq9pbf3p80000gn/T/ipykernel_1112/1430524837.py:1: FutureWarning: The default of observed=False is deprecated and will be changed to True in a future version of pandas. Pass observed=False to retain current behavior or observed=True to adopt the future default and silence this warning.\n",
      "  grouped = df_concat2.groupby([\"genre\", \"artists\"])[\"num_clicks\"].sum().reset_index()\n",
      "/var/folders/_l/xbjs439j31l5zpbzq9pbf3p80000gn/T/ipykernel_1112/1430524837.py:2: FutureWarning: The default of observed=False is deprecated and will be changed to True in a future version of pandas. Pass observed=False to retain current behavior or observed=True to adopt the future default and silence this warning.\n",
      "  most_clicked_artists = grouped.loc[grouped.groupby(\"genre\")[\"num_clicks\"].idxmax()]\n"
     ]
    },
    {
     "data": {
      "text/html": [
       "<div>\n",
       "<style scoped>\n",
       "    .dataframe tbody tr th:only-of-type {\n",
       "        vertical-align: middle;\n",
       "    }\n",
       "\n",
       "    .dataframe tbody tr th {\n",
       "        vertical-align: top;\n",
       "    }\n",
       "\n",
       "    .dataframe thead th {\n",
       "        text-align: right;\n",
       "    }\n",
       "</style>\n",
       "<table border=\"1\" class=\"dataframe\">\n",
       "  <thead>\n",
       "    <tr style=\"text-align: right;\">\n",
       "      <th></th>\n",
       "      <th>genre</th>\n",
       "      <th>artists</th>\n",
       "      <th>num_clicks</th>\n",
       "    </tr>\n",
       "  </thead>\n",
       "  <tbody>\n",
       "    <tr>\n",
       "      <th>90</th>\n",
       "      <td>Classic</td>\n",
       "      <td>90</td>\n",
       "      <td>1802.659620</td>\n",
       "    </tr>\n",
       "    <tr>\n",
       "      <th>184</th>\n",
       "      <td>Error</td>\n",
       "      <td>84</td>\n",
       "      <td>3111.134376</td>\n",
       "    </tr>\n",
       "    <tr>\n",
       "      <th>279</th>\n",
       "      <td>Other</td>\n",
       "      <td>79</td>\n",
       "      <td>625.991995</td>\n",
       "    </tr>\n",
       "    <tr>\n",
       "      <th>388</th>\n",
       "      <td>Rap</td>\n",
       "      <td>88</td>\n",
       "      <td>1767.657102</td>\n",
       "    </tr>\n",
       "    <tr>\n",
       "      <th>481</th>\n",
       "      <td>Rock</td>\n",
       "      <td>81</td>\n",
       "      <td>960.831688</td>\n",
       "    </tr>\n",
       "    <tr>\n",
       "      <th>594</th>\n",
       "      <td>Techno</td>\n",
       "      <td>94</td>\n",
       "      <td>1154.114332</td>\n",
       "    </tr>\n",
       "  </tbody>\n",
       "</table>\n",
       "</div>"
      ],
      "text/plain": [
       "       genre  artists   num_clicks\n",
       "90   Classic       90  1802.659620\n",
       "184    Error       84  3111.134376\n",
       "279    Other       79   625.991995\n",
       "388      Rap       88  1767.657102\n",
       "481     Rock       81   960.831688\n",
       "594   Techno       94  1154.114332"
      ]
     },
     "execution_count": 66,
     "metadata": {},
     "output_type": "execute_result"
    }
   ],
   "source": [
    "grouped = df_concat2.groupby([\"genre\", \"artists\"])[\"num_clicks\"].sum().reset_index()\n",
    "most_clicked_artists = grouped.loc[grouped.groupby(\"genre\")[\"num_clicks\"].idxmax()]\n",
    "most_clicked_artists"
   ]
  },
  {
   "cell_type": "markdown",
   "metadata": {},
   "source": [
    "Answerk:"
   ]
  },
  {
   "cell_type": "markdown",
   "metadata": {},
   "source": [
    "**Task**: Determine for each artist, the fan that spends the most minutes listening their music"
   ]
  },
  {
   "cell_type": "code",
   "execution_count": 69,
   "metadata": {},
   "outputs": [
    {
     "data": {
      "text/html": [
       "<div>\n",
       "<style scoped>\n",
       "    .dataframe tbody tr th:only-of-type {\n",
       "        vertical-align: middle;\n",
       "    }\n",
       "\n",
       "    .dataframe tbody tr th {\n",
       "        vertical-align: top;\n",
       "    }\n",
       "\n",
       "    .dataframe thead th {\n",
       "        text-align: right;\n",
       "    }\n",
       "</style>\n",
       "<table border=\"1\" class=\"dataframe\">\n",
       "  <thead>\n",
       "    <tr style=\"text-align: right;\">\n",
       "      <th></th>\n",
       "      <th>artists</th>\n",
       "      <th>user_id</th>\n",
       "      <th>ml</th>\n",
       "    </tr>\n",
       "  </thead>\n",
       "  <tbody>\n",
       "    <tr>\n",
       "      <th>30</th>\n",
       "      <td>0</td>\n",
       "      <td>31422</td>\n",
       "      <td>25643</td>\n",
       "    </tr>\n",
       "    <tr>\n",
       "      <th>164</th>\n",
       "      <td>1</td>\n",
       "      <td>36778</td>\n",
       "      <td>16306</td>\n",
       "    </tr>\n",
       "    <tr>\n",
       "      <th>179</th>\n",
       "      <td>2</td>\n",
       "      <td>29149</td>\n",
       "      <td>16715</td>\n",
       "    </tr>\n",
       "    <tr>\n",
       "      <th>344</th>\n",
       "      <td>3</td>\n",
       "      <td>37065</td>\n",
       "      <td>22260</td>\n",
       "    </tr>\n",
       "    <tr>\n",
       "      <th>428</th>\n",
       "      <td>4</td>\n",
       "      <td>34533</td>\n",
       "      <td>16150</td>\n",
       "    </tr>\n",
       "    <tr>\n",
       "      <th>...</th>\n",
       "      <td>...</td>\n",
       "      <td>...</td>\n",
       "      <td>...</td>\n",
       "    </tr>\n",
       "    <tr>\n",
       "      <th>8754</th>\n",
       "      <td>95</td>\n",
       "      <td>34117</td>\n",
       "      <td>13481</td>\n",
       "    </tr>\n",
       "    <tr>\n",
       "      <th>8785</th>\n",
       "      <td>96</td>\n",
       "      <td>28625</td>\n",
       "      <td>18813</td>\n",
       "    </tr>\n",
       "    <tr>\n",
       "      <th>8932</th>\n",
       "      <td>97</td>\n",
       "      <td>35648</td>\n",
       "      <td>14686</td>\n",
       "    </tr>\n",
       "    <tr>\n",
       "      <th>8948</th>\n",
       "      <td>98</td>\n",
       "      <td>28552</td>\n",
       "      <td>17103</td>\n",
       "    </tr>\n",
       "    <tr>\n",
       "      <th>9052</th>\n",
       "      <td>99</td>\n",
       "      <td>31026</td>\n",
       "      <td>15143</td>\n",
       "    </tr>\n",
       "  </tbody>\n",
       "</table>\n",
       "<p>100 rows × 3 columns</p>\n",
       "</div>"
      ],
      "text/plain": [
       "      artists  user_id     ml\n",
       "30          0    31422  25643\n",
       "164         1    36778  16306\n",
       "179         2    29149  16715\n",
       "344         3    37065  22260\n",
       "428         4    34533  16150\n",
       "...       ...      ...    ...\n",
       "8754       95    34117  13481\n",
       "8785       96    28625  18813\n",
       "8932       97    35648  14686\n",
       "8948       98    28552  17103\n",
       "9052       99    31026  15143\n",
       "\n",
       "[100 rows x 3 columns]"
      ]
     },
     "execution_count": 69,
     "metadata": {},
     "output_type": "execute_result"
    }
   ],
   "source": [
    "artist_user_time = df_concat2.groupby(['artists', 'user_id'])['ml'].sum().reset_index()\n",
    "top_fans = artist_user_time.loc[artist_user_time.groupby('artists')['ml'].idxmax()]\n",
    "top_fans"
   ]
  }
 ],
 "metadata": {
  "kernelspec": {
   "display_name": "Python 3 (ipykernel)",
   "language": "python",
   "name": "python3"
  },
  "language_info": {
   "codemirror_mode": {
    "name": "ipython",
    "version": 3
   },
   "file_extension": ".py",
   "mimetype": "text/x-python",
   "name": "python",
   "nbconvert_exporter": "python",
   "pygments_lexer": "ipython3",
   "version": "3.12.4"
  }
 },
 "nbformat": 4,
 "nbformat_minor": 4
}
