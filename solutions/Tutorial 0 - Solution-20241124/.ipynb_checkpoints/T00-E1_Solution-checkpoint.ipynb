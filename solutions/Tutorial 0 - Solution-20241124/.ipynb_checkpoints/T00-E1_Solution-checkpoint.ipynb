{
 "cells": [
  {
   "cell_type": "markdown",
   "metadata": {},
   "source": [
    "### Oktoberfest Beer Data"
   ]
  },
  {
   "cell_type": "code",
   "execution_count": 1,
   "metadata": {},
   "outputs": [],
   "source": [
    "# Imports\n",
    "import pandas as pd\n",
    "import matplotlib.pyplot as plt"
   ]
  },
  {
   "cell_type": "markdown",
   "metadata": {},
   "source": [
    "a) Read the data from *visitors.csv* into a pandas dataframe."
   ]
  },
  {
   "cell_type": "code",
   "execution_count": 2,
   "metadata": {},
   "outputs": [],
   "source": [
    "df_visitors = pd.read_csv(\"visitors.csv\")"
   ]
  },
  {
   "cell_type": "markdown",
   "metadata": {},
   "source": [
    "b) Take a look at the dataframe's column names. Display the ten top rows of the dataframes."
   ]
  },
  {
   "cell_type": "code",
   "execution_count": null,
   "metadata": {},
   "outputs": [],
   "source": [
    "print(df_visitors.columns)\n",
    "df_visitors.head(10)"
   ]
  },
  {
   "cell_type": "markdown",
   "metadata": {},
   "source": [
    "c) Select and display only the column of visitors (... only the fifth row of your dataframe)."
   ]
  },
  {
   "cell_type": "code",
   "execution_count": null,
   "metadata": {},
   "outputs": [],
   "source": [
    "# Note: To avoid clutter, best comment out some lines...\n",
    "\n",
    "# Visitors column\n",
    "print(df_visitors[\"Visitors (million)\"])\n",
    "print(df_visitors.loc[:, \"Visitors (million)\"])  # Alternative\n",
    "\n",
    "# Fith row\n",
    "# print(df_visitors.iloc[4]) # The fith row has index 4...\n",
    "# print(df_visitors.loc[4, :]) # Alternative"
   ]
  },
  {
   "cell_type": "markdown",
   "metadata": {},
   "source": [
    "d) How many visitors were there in 1995?"
   ]
  },
  {
   "cell_type": "code",
   "execution_count": null,
   "metadata": {},
   "outputs": [],
   "source": [
    "x = df_visitors.loc[df_visitors[\"Year\"] == 1995, \"Visitors (million)\"]\n",
    "print(x)"
   ]
  },
  {
   "cell_type": "markdown",
   "metadata": {},
   "source": [
    "e) What is the value range of the attribute \"Beer consumption (million liters)\"?"
   ]
  },
  {
   "cell_type": "code",
   "execution_count": null,
   "metadata": {},
   "outputs": [],
   "source": [
    "v_min = df_visitors[\"Beer consumption (million liters)\"].min()\n",
    "v_max = df_visitors[\"Beer consumption (million liters)\"].max()\n",
    "print(v_min, \" - \", v_max)"
   ]
  },
  {
   "cell_type": "markdown",
   "metadata": {},
   "source": [
    "f) What was the year with the greatest beer consumption? How much beer was consumed?"
   ]
  },
  {
   "cell_type": "code",
   "execution_count": null,
   "metadata": {},
   "outputs": [],
   "source": [
    "row = df_visitors[\"Beer consumption (million liters)\"].argmax()\n",
    "print(df_visitors.iloc[row])"
   ]
  },
  {
   "cell_type": "markdown",
   "metadata": {},
   "source": [
    "g) Plot the beer consumption over the years. Turn on the grid of your plot."
   ]
  },
  {
   "cell_type": "code",
   "execution_count": null,
   "metadata": {},
   "outputs": [],
   "source": [
    "df_visitors.plot(x=\"Year\", y=\"Beer consumption (million liters)\")\n",
    "plt.grid()\n",
    "# # Alternatively, you can use matplotlib\n",
    "# plt.plot(df_visitors[\"Year\"], df_visitors[\"Beer consumption (million liters)\"])\n",
    "# plt.grid()"
   ]
  },
  {
   "cell_type": "markdown",
   "metadata": {},
   "source": [
    "h) Compute the correlation matrix of the dataframe. Which conclusions can you draw?"
   ]
  },
  {
   "cell_type": "code",
   "execution_count": null,
   "metadata": {},
   "outputs": [],
   "source": [
    "df_visitors.corr()"
   ]
  },
  {
   "cell_type": "markdown",
   "metadata": {},
   "source": [
    "*The correlation between year and beer consumption is high.*   \n",
    "*However, the correlation between visitors and beer consumption is close to zero, as is the correlation between year and visitors.*\n",
    "\n",
    "*This indicates that the per-head beer consumption increased.*"
   ]
  },
  {
   "cell_type": "code",
   "execution_count": null,
   "metadata": {},
   "outputs": [],
   "source": [
    "plt.plot(\n",
    "    df_visitors[\"Year\"],\n",
    "    df_visitors[\"Beer consumption (million liters)\"]\n",
    "    / df_visitors[\"Visitors (million)\"],\n",
    ")\n",
    "plt.title(\"Per-head beer consumption\")\n",
    "plt.ylabel(\"Liters\")\n",
    "plt.xlabel(\"Year\")\n",
    "plt.grid()"
   ]
  },
  {
   "cell_type": "markdown",
   "metadata": {},
   "source": [
    "i) Load the data from *beer_price.csv* into a second dataframe. Then merge the two dataframes based on the year with an outer join.  \n",
    "Observe which values you get for years that are not listed in some of the data sets."
   ]
  },
  {
   "cell_type": "code",
   "execution_count": null,
   "metadata": {},
   "outputs": [],
   "source": [
    "df_beer_price = pd.read_csv(\"beer_price.csv\")\n",
    "\n",
    "df_oktoberfest = pd.merge(df_visitors, df_beer_price, how=\"outer\", on=\"Year\")\n",
    "df_oktoberfest"
   ]
  },
  {
   "cell_type": "markdown",
   "metadata": {},
   "source": [
    "j) Until 2001, the beer price is reported in DEM (\"Deutsche Mark\"), the former German currency. \n",
    "Adjust the beer prices (min and max) to give values in EUR.\n",
    "You may assume that 1 EUR = 1.95583 DEM. "
   ]
  },
  {
   "cell_type": "code",
   "execution_count": null,
   "metadata": {},
   "outputs": [],
   "source": [
    "# Careful: Do not execute this cell more than once or your data will be incorrect.\n",
    "df_oktoberfest.loc[df_oktoberfest[\"Year\"] <= 2001, \"Min price\"] = (\n",
    "    df_oktoberfest.loc[df_oktoberfest[\"Year\"] <= 2001, \"Min price\"] / 1.95583\n",
    ")\n",
    "df_oktoberfest.loc[df_oktoberfest[\"Year\"] <= 2001, \"Max price\"] = (\n",
    "    df_oktoberfest.loc[df_oktoberfest[\"Year\"] <= 2001, \"Max price\"] / 1.95583\n",
    ")\n",
    "\n",
    "# Visualization\n",
    "df_oktoberfest"
   ]
  },
  {
   "cell_type": "markdown",
   "metadata": {},
   "source": [
    "k) Compute the mean and variance of \"Min price\" during the period from 2000 to 2007."
   ]
  },
  {
   "cell_type": "code",
   "execution_count": null,
   "metadata": {},
   "outputs": [],
   "source": [
    "# First, we construct a bit-mask.\n",
    "mask = (2000 <= df_oktoberfest[\"Year\"]) & (df_oktoberfest[\"Year\"] <= 2007)\n",
    "# Then, we apply the mask and compute the mean and variance.\n",
    "mean = df_oktoberfest[mask][\"Min price\"].mean()\n",
    "var = df_oktoberfest[mask][\"Min price\"].var()\n",
    "print(\"mean =\", mean)\n",
    "print(\"var =\", var)"
   ]
  },
  {
   "cell_type": "markdown",
   "metadata": {},
   "source": [
    "l) Add a new column to the merged dataframe, describing the relative difference in beer prices\n",
    "between two consecutive years in percent. Plot this difference against \"Year\"."
   ]
  },
  {
   "cell_type": "code",
   "execution_count": null,
   "metadata": {},
   "outputs": [],
   "source": [
    "df_oktoberfest[\"Price Increase (%)\"] = (\n",
    "    (df_oktoberfest[\"Min price\"] - df_oktoberfest[\"Min price\"].shift(1))\n",
    "    / df_oktoberfest[\"Min price\"]\n",
    "    * 100\n",
    ")\n",
    "df_oktoberfest.plot(x=\"Year\", y=\"Price Increase (%)\")"
   ]
  },
  {
   "cell_type": "markdown",
   "metadata": {},
   "source": [
    "*What does `shift(1)` do?*"
   ]
  },
  {
   "cell_type": "code",
   "execution_count": 15,
   "metadata": {},
   "outputs": [],
   "source": [
    "# compare = pd.concat(\n",
    "#     [\n",
    "#         df_oktoberfest[\"Year\"],\n",
    "#         df_oktoberfest[\"Min price\"],\n",
    "#         df_oktoberfest[\"Min price\"].shift(1),\n",
    "#     ],\n",
    "#     axis=1,\n",
    "# )\n",
    "\n",
    "# compare"
   ]
  },
  {
   "cell_type": "markdown",
   "metadata": {},
   "source": [
    "m) Create a bar plot displaying the minimum and maximum prices over the years."
   ]
  },
  {
   "cell_type": "code",
   "execution_count": null,
   "metadata": {},
   "outputs": [],
   "source": [
    "df_oktoberfest.plot.bar(x=\"Year\", y=[\"Min price\", \"Max price\"])\n",
    "\n",
    "# # Alternatively, you can use matplotlib\n",
    "# plt.bar(x=df_oktoberfest[\"Year\"], height=df_oktoberfest[\"Max price\"], label=\"Min price\")\n",
    "# plt.bar(x=df_oktoberfest[\"Year\"], height=df_oktoberfest[\"Min price\"], label=\"Max price\")\n",
    "# plt.xlabel(\"Year\")\n",
    "# plt.ylabel(\"Price\")\n",
    "# plt.legend()"
   ]
  },
  {
   "cell_type": "markdown",
   "metadata": {},
   "source": [
    "n) Compute estimates (lower and upper bound) of the beer revenue and visualize them by bar plot."
   ]
  },
  {
   "cell_type": "code",
   "execution_count": null,
   "metadata": {},
   "outputs": [],
   "source": [
    "df_oktoberfest[\"Min sales\"] = (\n",
    "    df_oktoberfest[\"Beer consumption (million liters)\"] * df_oktoberfest[\"Min price\"]\n",
    ")\n",
    "df_oktoberfest[\"Max sales\"] = (\n",
    "    df_oktoberfest[\"Beer consumption (million liters)\"] * df_oktoberfest[\"Max price\"]\n",
    ")\n",
    "\n",
    "df_oktoberfest.plot.bar(x=\"Year\", y=[\"Min sales\", \"Max sales\"])\n",
    "plt.title(\"Revenue\")\n",
    "plt.ylabel(\"Million EUR\")"
   ]
  }
 ],
 "metadata": {
  "kernelspec": {
   "display_name": "baml-venv",
   "language": "python",
   "name": "python3"
  },
  "language_info": {
   "codemirror_mode": {
    "name": "ipython",
    "version": 3
   },
   "file_extension": ".py",
   "mimetype": "text/x-python",
   "name": "python",
   "nbconvert_exporter": "python",
   "pygments_lexer": "ipython3",
   "version": "3.12.5"
  }
 },
 "nbformat": 4,
 "nbformat_minor": 4
}
