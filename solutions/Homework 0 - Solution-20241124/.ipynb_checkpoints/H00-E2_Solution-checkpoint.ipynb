{
 "cells": [
  {
   "cell_type": "markdown",
   "metadata": {},
   "source": [
    "### Plotting Data with Pandas and Matplotlib.Pyplot\n",
    "\n",
    "For common plot types and settings, pandas provides functions that can be\n",
    "accessed directly from the dataframe. It is always possible to design\n",
    "manual plots via matplotlib.pyplot, or use other libraries such as seaborn."
   ]
  },
  {
   "cell_type": "code",
   "execution_count": 1,
   "metadata": {},
   "outputs": [],
   "source": [
    "import pandas as pd\n",
    "import matplotlib.pyplot as plt"
   ]
  },
  {
   "cell_type": "markdown",
   "metadata": {},
   "source": [
    "a) Read the file \"LaborSupply1988.csv\" into a pandas dataframe."
   ]
  },
  {
   "cell_type": "code",
   "execution_count": null,
   "metadata": {},
   "outputs": [],
   "source": [
    "df = pd.read_csv(\"LaborSupply1988.csv\")\n",
    "df.head()"
   ]
  },
  {
   "cell_type": "markdown",
   "metadata": {},
   "source": [
    "b) Plot a histogram of the attribute \"age\". What is the most frequent age?"
   ]
  },
  {
   "cell_type": "code",
   "execution_count": null,
   "metadata": {},
   "outputs": [],
   "source": [
    "# Pandas dataframes have built in basic plotting functionalities\n",
    "df[\"age\"].plot.hist(bins=15)\n",
    "df[\"age\"].mode()  # the mode is the most common value in a dataset"
   ]
  },
  {
   "cell_type": "markdown",
   "metadata": {},
   "source": [
    "c) Plot the average number of \"kids\" against \"age\" and interpret the resulting graph.  \n",
    "Compute the correlation between \"kids\" and \"age\" to check your interpretation."
   ]
  },
  {
   "cell_type": "code",
   "execution_count": null,
   "metadata": {},
   "outputs": [],
   "source": [
    "df.groupby(\"age\")[\"kids\"].mean().plot(style=\".\")\n",
    "\n",
    "corr = df[[\"kids\", \"age\"]].corr()\n",
    "print(corr)"
   ]
  },
  {
   "cell_type": "markdown",
   "metadata": {},
   "source": [
    "*The correlation between age and kids is negative, meaning the average number of kids decreases with increasing age.*"
   ]
  },
  {
   "cell_type": "markdown",
   "metadata": {},
   "source": [
    "d) Plot \"log of hourly wage (lnwg)\" against \"age\"."
   ]
  },
  {
   "cell_type": "code",
   "execution_count": null,
   "metadata": {},
   "outputs": [],
   "source": [
    "df.plot(x=\"age\", y=\"lnwg\", style=\".\")"
   ]
  },
  {
   "cell_type": "markdown",
   "metadata": {},
   "source": [
    "e) Plot the mean of \"log of hourly wages (lnwg)\" against \"age\".  \n",
    "Compute and discuss the type of correlation between \"lnwg\" and \"age\"."
   ]
  },
  {
   "cell_type": "code",
   "execution_count": null,
   "metadata": {},
   "outputs": [],
   "source": [
    "df.groupby(\"age\")[\"lnwg\"].mean().plot(x=\"age\", y=\"lnwg\", style=\".\")\n",
    "corr = df[[\"age\", \"lnwg\"]].corr()\n",
    "print(corr)\n"
   ]
  },
  {
   "cell_type": "markdown",
   "metadata": {},
   "source": [
    "f) Plot \"lnhr\" against \"age\" with different colors for \"disab=0\" and \"disab=1\"."
   ]
  },
  {
   "cell_type": "code",
   "execution_count": null,
   "metadata": {},
   "outputs": [],
   "source": [
    "Xs = df[\"age\"].values\n",
    "Ys = df[\"lnhr\"].values\n",
    "filterfunction = lambda x : \"red\" if x == 0 else \"blue\"\n",
    "colors = df[\"disab\"].apply(filterfunction).values\n",
    "for x, y, c in zip(Xs, Ys, colors):\n",
    "    plt.scatter(x, y, s=10, color=c)\n",
    "plt.show()"
   ]
  },
  {
   "cell_type": "markdown",
   "metadata": {},
   "source": [
    "g) Create a boxplot of the \"lnhr\" (log of annual hours) against the number of kids.  \n",
    "What can be observed regarding median and variance?  \n",
    "Is the observation meaningful for large values of kids?"
   ]
  },
  {
   "cell_type": "code",
   "execution_count": null,
   "metadata": {},
   "outputs": [],
   "source": [
    "df.plot.box(column=\"lnhr\", by=\"kids\")"
   ]
  }
 ],
 "metadata": {
  "kernelspec": {
   "display_name": "baml-venv",
   "language": "python",
   "name": "python3"
  },
  "language_info": {
   "codemirror_mode": {
    "name": "ipython",
    "version": 3
   },
   "file_extension": ".py",
   "mimetype": "text/x-python",
   "name": "python",
   "nbconvert_exporter": "python",
   "pygments_lexer": "ipython3",
   "version": "3.12.5"
  },
  "orig_nbformat": 4
 },
 "nbformat": 4,
 "nbformat_minor": 2
}
