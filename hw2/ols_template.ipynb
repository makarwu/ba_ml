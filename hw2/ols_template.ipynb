{
 "cells": [
  {
   "cell_type": "markdown",
   "metadata": {},
   "source": [
    "# Implementation of an OLS solver"
   ]
  },
  {
   "cell_type": "markdown",
   "metadata": {},
   "source": [
    "In this exercise, you will implement your own function for solving OLS regression problems in Python.\n",
    "\n",
    "The function takes the data samples in matrix-form ($X$, $y$) as inputs and returns the minimizing solution $\\beta$ as well as the remaining error $\\mathcal{L}(\\beta)$."
   ]
  },
  {
   "cell_type": "code",
   "execution_count": 18,
   "metadata": {},
   "outputs": [],
   "source": [
    "# Imports\n",
    "import numpy as np\n",
    "import pandas as pd\n",
    "from sklearn.linear_model import LinearRegression"
   ]
  },
  {
   "cell_type": "markdown",
   "metadata": {},
   "source": [
    "## Exercise a)\n",
    "\n",
    "Implement the function."
   ]
  },
  {
   "cell_type": "code",
   "execution_count": 19,
   "metadata": {},
   "outputs": [],
   "source": [
    "def fit_parameters(X, y):\n",
    "    \"\"\"Compute optimal parameters by least-squares regression.\n",
    "\n",
    "    Args:\n",
    "        X (np.ndarray): The input variables, containing intercept variables if required.\n",
    "        y (np.ndarray): The target variables.\n",
    "\n",
    "    Returns:\n",
    "        np.ndarray: The parameter vector (beta)\n",
    "        float: The remaining loss\n",
    "    \"\"\"\n",
    "    beta = np.linalg.inv(X.T @ X) @ X.T @ y\n",
    "    y_pred = X @ beta\n",
    "    loss = np.sum((y - y_pred)**2) \n",
    "    return beta, loss"
   ]
  },
  {
   "cell_type": "markdown",
   "metadata": {},
   "source": [
    "## Exercise b)\n",
    "\n",
    "For our provided toy data set (*ols-implementation-data.csv*), find the optimal regression parameters with the help of your implementation. Don't forget to add a variable for the intercept parameter!"
   ]
  },
  {
   "cell_type": "code",
   "execution_count": 20,
   "metadata": {},
   "outputs": [
    {
     "name": "stdout",
     "output_type": "stream",
     "text": [
      "Parameters by our model: [47.81880739 -0.25241394  3.38759361]\n",
      "Loss by our model: 96199.44\n",
      "\n"
     ]
    }
   ],
   "source": [
    "# Load dataset\n",
    "# TODO\n",
    "import statsmodels.api as sm\n",
    "\n",
    "data = pd.read_csv(\"ols-implementation-data.csv\")\n",
    "X = data[[\"x1\", \"x2\"]].values\n",
    "y = data[\"y\"].values\n",
    "\n",
    "# Add intercept variables\n",
    "X_with_intercept = sm.add_constant(X) # add a constant term to the independent values (intercept)\n",
    "\n",
    "# Find optimal parameter values\n",
    "beta, loss = fit_parameters(X_with_intercept, y) # TODO\n",
    "print(f\"Parameters by our model: {beta}\")\n",
    "print(f\"Loss by our model: {loss:.2f}\\n\")"
   ]
  },
  {
   "cell_type": "markdown",
   "metadata": {},
   "source": [
    "## Exercise c)\n",
    "\n",
    "Repeat b) with the aid of scikit-learn [``LinearRegression``](https://scikit-learn.org/stable/modules/generated/sklearn.linear_model.LinearRegression.html) and verify your solution."
   ]
  },
  {
   "cell_type": "code",
   "execution_count": 21,
   "metadata": {},
   "outputs": [
    {
     "name": "stdout",
     "output_type": "stream",
     "text": [
      "Parameters by our model: [47.81880739 -0.25241394  3.38759361]\n",
      "Loss by our model: 96199.44\n",
      "\n",
      "Parameters by scikit-learn: [47.81880739 -0.25241394  3.38759361]\n",
      "Loss by scikit-learn: 96199.44\n"
     ]
    }
   ],
   "source": [
    "# Using scikit-learn\n",
    "beta_custom, loss_custom = fit_parameters(X_with_intercept, y)\n",
    "\n",
    "model = LinearRegression(fit_intercept=False)  # We already added the intercept\n",
    "model.fit(X_with_intercept, y)\n",
    "\n",
    "beta_sklearn = model.coef_\n",
    "y_pred = model.predict(X_with_intercept)\n",
    "loss_sklearn = np.sum((y - y_pred)**2)\n",
    "\n",
    "print(\"Parameters by our model:\", beta_custom)\n",
    "print(f\"Loss by our model: {loss_custom:.2f}\")\n",
    "print(\"\\nParameters by scikit-learn:\", beta_sklearn)\n",
    "print(f\"Loss by scikit-learn: {loss_sklearn:.2f}\")"
   ]
  },
  {
   "cell_type": "markdown",
   "metadata": {},
   "source": [
    "## Exercise d)\n",
    "\n",
    "How much of the total variance can you explain with your model? Compute the R^2 measure. What happens if you forget about the intercept? How does the R^2 measure compare?"
   ]
  },
  {
   "cell_type": "code",
   "execution_count": 22,
   "metadata": {},
   "outputs": [
    {
     "name": "stdout",
     "output_type": "stream",
     "text": [
      "R^2 with intercept: 0.5540\n"
     ]
    }
   ],
   "source": [
    "# R^2 measure\n",
    "def calculate_r_squared(y, y_pred):\n",
    "    ssr = np.sum((y - y_pred)**2)  # Sum of squared residuals\n",
    "    sst = np.sum((y - np.mean(y))**2)  # Total sum of squares\n",
    "    r_squared = 1 - (ssr / sst)\n",
    "    return r_squared\n",
    "\n",
    "y_pred = X_with_intercept @ beta\n",
    "r_squared = calculate_r_squared(y, y_pred)\n",
    "\n",
    "print(f\"R^2 with intercept: {r_squared:.4f}\")"
   ]
  },
  {
   "cell_type": "code",
   "execution_count": 24,
   "metadata": {},
   "outputs": [
    {
     "name": "stdout",
     "output_type": "stream",
     "text": [
      "R^2 without intercept: 0.3500\n"
     ]
    }
   ],
   "source": [
    "# Without intercept\n",
    "def calculate_r_squared_no_intercept(y, y_pred):\n",
    "    ssr = np.sum((y - y_pred)**2)\n",
    "    sst_uncorrected = np.sum(y**2)\n",
    "    r_squared = 1 - (ssr / sst_uncorrected)\n",
    "    return r_squared\n",
    "\n",
    "X_no_intercept = X  # Original X without the added intercept column\n",
    "beta_no_intercept = np.linalg.inv(X_no_intercept.T @ X_no_intercept) @ X_no_intercept.T @ y\n",
    "y_pred_no_intercept = X_no_intercept @ beta_no_intercept\n",
    "\n",
    "r_squared_no_intercept = calculate_r_squared_no_intercept(y, y_pred_no_intercept)\n",
    "\n",
    "print(f\"R^2 without intercept: {r_squared_no_intercept:.4f}\")"
   ]
  },
  {
   "cell_type": "markdown",
   "metadata": {},
   "source": [
    "## Exercise e)\n",
    "\n",
    "The computed R^2 value is not very good (even with the intercept). What could be the reason?"
   ]
  },
  {
   "cell_type": "markdown",
   "metadata": {},
   "source": [
    "- Non-linear relationships: The linear regression model assumes linear relationships between the independent and dependent variables. If the true relationship is non-linear, a linear model will not capture it well, resulting in a lower $R^2$."
   ]
  }
 ],
 "metadata": {
  "kernelspec": {
   "display_name": "base",
   "language": "python",
   "name": "python3"
  },
  "language_info": {
   "codemirror_mode": {
    "name": "ipython",
    "version": 3
   },
   "file_extension": ".py",
   "mimetype": "text/x-python",
   "name": "python",
   "nbconvert_exporter": "python",
   "pygments_lexer": "ipython3",
   "version": "3.12.4"
  }
 },
 "nbformat": 4,
 "nbformat_minor": 2
}
